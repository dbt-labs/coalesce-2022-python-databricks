{
 "cells": [
  {
   "cell_type": "markdown",
   "metadata": {},
   "source": [
    "# Temp\n",
    "\n",
    "To delete."
   ]
  },
  {
   "cell_type": "markdown",
   "metadata": {},
   "source": [
    "## Setup"
   ]
  },
  {
   "cell_type": "code",
   "execution_count": null,
   "metadata": {},
   "outputs": [],
   "source": [
    "# yolo\n",
    "import warnings\n",
    "\n",
    "warnings.simplefilter(\"ignore\")"
   ]
  },
  {
   "cell_type": "markdown",
   "metadata": {},
   "source": [
    "## Installs"
   ]
  },
  {
   "cell_type": "code",
   "execution_count": null,
   "metadata": {},
   "outputs": [],
   "source": []
  },
  {
   "cell_type": "code",
   "execution_count": null,
   "metadata": {},
   "outputs": [],
   "source": [
    "%pip install rapidfuzz"
   ]
  },
  {
   "cell_type": "code",
   "execution_count": null,
   "metadata": {},
   "outputs": [],
   "source": [
    "#%pip install --upgrade 'snowflake-snowpark-python[pandas]' pyyaml numpy pandas scikit-learn matplotlib seaborn prophet mlflow thefuzz ipympl"
   ]
  },
  {
   "cell_type": "markdown",
   "metadata": {},
   "source": [
    "## Imports"
   ]
  },
  {
   "cell_type": "code",
   "execution_count": null,
   "metadata": {},
   "outputs": [],
   "source": [
    "import yaml\n",
    "import itertools\n",
    "\n",
    "import numpy as np\n",
    "import pandas as pd\n",
    "import matplotlib.pyplot as plt\n",
    "\n",
    "from random import random, randint\n",
    "from thefuzz import fuzz\n",
    "from prophet import Prophet\n",
    "from datetime import datetime\n",
    "from sklearn.cluster import KMeans\n",
    "from prophet.serialize import model_to_json, model_from_json\n",
    "from snowflake.snowpark import Session\n",
    "from sklearn.decomposition import PCA\n",
    "\n",
    "from thefuzz.process import extractOne as match_str"
   ]
  },
  {
   "cell_type": "markdown",
   "metadata": {},
   "source": [
    "## Connect to Snowpark in Python"
   ]
  },
  {
   "cell_type": "code",
   "execution_count": null,
   "metadata": {},
   "outputs": [],
   "source": [
    "# replace as needed\n",
    "PROFILE_PATH = \"/root/.dbt/profiles.yml\"\n",
    "PROFILE_NAME = \"snowflake\"\n",
    "PROFILE_OUTPUT = \"dev\"\n",
    "\n",
    "# read in dbt profile\n",
    "with open(PROFILE_PATH, \"r\") as f:\n",
    "    profiles = yaml.safe_load(f)\n",
    "    profile = profiles[PROFILE_NAME][\"outputs\"][PROFILE_OUTPUT]\n",
    "\n",
    "# build connection parameters from profile\n",
    "conn_params = {\n",
    "    \"account\": profile[\"account\"],\n",
    "    \"user\": profile[\"user\"],\n",
    "    \"role\": profile[\"role\"],\n",
    "    \"warehouse\": profile[\"warehouse\"],\n",
    "    \"database\": profile[\"database\"],\n",
    "    \"schema\": profile[\"schema\"],\n",
    "    \"authenticator\": profile[\"authenticator\"],\n",
    "}\n",
    "conn_params"
   ]
  },
  {
   "cell_type": "code",
   "execution_count": null,
   "metadata": {},
   "outputs": [],
   "source": [
    "schema = conn_params[\"schema\"]"
   ]
  },
  {
   "cell_type": "code",
   "execution_count": null,
   "metadata": {},
   "outputs": [],
   "source": [
    "from snowflake.snowpark import Session\n",
    "\n",
    "s = Session.builder.configs(conn_params).create()\n",
    "s"
   ]
  },
  {
   "cell_type": "code",
   "execution_count": null,
   "metadata": {},
   "outputs": [],
   "source": [
    "s.sql(\"select current_warehouse(), current_database(), current_schema()\").collect()"
   ]
  },
  {
   "cell_type": "markdown",
   "metadata": {},
   "source": [
    "## Fun stuff"
   ]
  },
  {
   "cell_type": "code",
   "execution_count": null,
   "metadata": {},
   "outputs": [],
   "source": [
    "int_customers = s.table(f\"{schema}.int_customers\").to_pandas()\n",
    "int_customers.head()"
   ]
  },
  {
   "cell_type": "code",
   "execution_count": null,
   "metadata": {},
   "outputs": [],
   "source": [
    "int_orders = s.table(f\"{schema}.int_orders\").to_pandas()\n",
    "int_orders.tail()"
   ]
  },
  {
   "cell_type": "code",
   "execution_count": null,
   "metadata": {},
   "outputs": [],
   "source": [
    "from thefuzz.process import extractOne"
   ]
  },
  {
   "cell_type": "code",
   "execution_count": null,
   "metadata": {},
   "outputs": [],
   "source": [
    "names = int_customers[\"customer_name\".upper()].unique()\n",
    "names"
   ]
  },
  {
   "cell_type": "code",
   "execution_count": null,
   "metadata": {},
   "outputs": [],
   "source": [
    "from rapidfuzz.process import extractOne as match_str"
   ]
  },
  {
   "cell_type": "code",
   "execution_count": null,
   "metadata": {},
   "outputs": [],
   "source": [
    "match_str(\"Brenda\", names)"
   ]
  },
  {
   "cell_type": "code",
   "execution_count": null,
   "metadata": {},
   "outputs": [],
   "source": [
    "%%time\n",
    "\n",
    "sample = int_orders.sample(4000)\n",
    "\n",
    "int_orders[[\"matched_name\".upper(), \"matched_likelihood\".upper()]] = sample.apply(\n",
    "    lambda x: match_str(x[\"customer_name\".upper()], names)[0:2], axis=1, result_type=\"expand\"\n",
    ")\n",
    "int_orders.iloc[sample.index].head()"
   ]
  },
  {
   "cell_type": "code",
   "execution_count": null,
   "metadata": {},
   "outputs": [],
   "source": []
  },
  {
   "cell_type": "code",
   "execution_count": null,
   "metadata": {},
   "outputs": [],
   "source": [
    "import dask\n",
    "\n",
    "from dask import delayed\n",
    "from distributed import Client"
   ]
  },
  {
   "cell_type": "code",
   "execution_count": null,
   "metadata": {},
   "outputs": [],
   "source": [
    "c = Client()\n",
    "c"
   ]
  },
  {
   "cell_type": "code",
   "execution_count": null,
   "metadata": {},
   "outputs": [],
   "source": [
    "def process_batch(batch):\n",
    "\n",
    "    # use this but with column names as matched_name, matched_likelihood\n",
    "    return batch.apply(\n",
    "        lambda x: match_str(x[\"customer_name\".upper()], names),\n",
    "        axis=1,\n",
    "        result_type=\"expand\",\n",
    "    )"
   ]
  },
  {
   "cell_type": "code",
   "execution_count": null,
   "metadata": {},
   "outputs": [],
   "source": [
    "results = []\n",
    "for df in np.array_split(int_orders, 1000):\n",
    "    results.append(delayed(process_batch)(df))\n",
    "results[0:3]"
   ]
  },
  {
   "cell_type": "code",
   "execution_count": null,
   "metadata": {},
   "outputs": [],
   "source": [
    "dask.compute(*results)"
   ]
  },
  {
   "cell_type": "code",
   "execution_count": null,
   "metadata": {},
   "outputs": [],
   "source": [
    "dask.compute(*results)"
   ]
  },
  {
   "cell_type": "code",
   "execution_count": null,
   "metadata": {},
   "outputs": [],
   "source": []
  },
  {
   "cell_type": "code",
   "execution_count": null,
   "metadata": {},
   "outputs": [],
   "source": []
  },
  {
   "cell_type": "code",
   "execution_count": null,
   "metadata": {},
   "outputs": [],
   "source": [
    "%%time\n",
    "\n",
    "test = int_orders.sample(20).apply(\n",
    "    lambda x: match_str(x[\"customer_name\".upper()], names), axis=1, result_type=\"expand\"\n",
    ")\n",
    "test"
   ]
  },
  {
   "cell_type": "code",
   "execution_count": null,
   "metadata": {},
   "outputs": [],
   "source": [
    "type(test)"
   ]
  }
 ],
 "metadata": {
  "kernelspec": {
   "display_name": "snowy",
   "language": "python",
   "name": "snowy"
  },
  "language_info": {
   "codemirror_mode": {
    "name": "ipython",
    "version": 3
   },
   "file_extension": ".py",
   "mimetype": "text/x-python",
   "name": "python",
   "nbconvert_exporter": "python",
   "pygments_lexer": "ipython3",
   "version": "3.8.14"
  },
  "orig_nbformat": 4,
  "vscode": {
   "interpreter": {
    "hash": "949777d72b0d2535278d3dc13498b2535136f6dfe0678499012e853ee9abcab1"
   }
  }
 },
 "nbformat": 4,
 "nbformat_minor": 2
}
